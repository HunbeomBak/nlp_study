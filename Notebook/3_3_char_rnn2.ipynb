{
 "cells": [
  {
   "cell_type": "markdown",
   "metadata": {},
   "source": [
    "# 문자 단위 RNN (char RNN)\n",
    "모든 시점의 입력에 대해서 출력하는 many-to-many RNN 구현\n",
    "\n",
    "## 문자 단위 RNN(Char RNN)"
   ]
  },
  {
   "cell_type": "code",
   "execution_count": 1,
   "metadata": {},
   "outputs": [],
   "source": [
    "import torch\n",
    "import torch.nn as nn\n",
    "import torch.optim as optim\n",
    "import numpy as np"
   ]
  },
  {
   "cell_type": "markdown",
   "metadata": {},
   "source": [
    "### 데이터 전처리"
   ]
  },
  {
   "cell_type": "code",
   "execution_count": 2,
   "metadata": {},
   "outputs": [],
   "source": [
    "sentence = (\"if you want to build a ship, don't drum up people together to \"\n",
    "            \"collect wood and don't assign them tasks and work, but rather \"\n",
    "            \"teach them to long for the endless immensity of the sea.\")"
   ]
  },
  {
   "cell_type": "markdown",
   "metadata": {},
   "source": [
    "문자들에 고유한 정수를 부여"
   ]
  },
  {
   "cell_type": "code",
   "execution_count": 3,
   "metadata": {},
   "outputs": [
    {
     "name": "stdout",
     "output_type": "stream",
     "text": [
      "['.', 'b', 'l', 'c', 'i', 't', 'g', 'k', ' ', 'f', 'e', 'a', 'p', 'y', 'd', 'h', ',', \"'\", 'o', 'n', 'm', 'u', 'w', 's', 'r']\n",
      "{'.': 0, 'b': 1, 'l': 2, 'c': 3, 'i': 4, 't': 5, 'g': 6, 'k': 7, ' ': 8, 'f': 9, 'e': 10, 'a': 11, 'p': 12, 'y': 13, 'd': 14, 'h': 15, ',': 16, \"'\": 17, 'o': 18, 'n': 19, 'm': 20, 'u': 21, 'w': 22, 's': 23, 'r': 24}\n",
      "문자 집합의 크기 : 25\n"
     ]
    }
   ],
   "source": [
    "char_set = list(set(sentence)) # 중복을 제거한 문자 집합 생성\n",
    "print(char_set)\n",
    "char_dic = {c: i for i, c in enumerate(char_set)} # 각 문자에 정수 인코딩\n",
    "print(char_dic) # 공백도 여기서는 하나의 원소\n",
    "dic_size = len(char_dic)\n",
    "print('문자 집합의 크기 : {}'.format(dic_size))"
   ]
  },
  {
   "cell_type": "markdown",
   "metadata": {},
   "source": [
    "문자 집합의 크기 = 입력으로 사용할 원핫 벡터의 크기\n",
    "\n",
    "문장을 임의의 sequence_length로 잘라서 데이터를 만듬"
   ]
  },
  {
   "cell_type": "code",
   "execution_count": 6,
   "metadata": {},
   "outputs": [
    {
     "name": "stdout",
     "output_type": "stream",
     "text": [
      "0 if you wan -> f you want\n",
      "1 f you want ->  you want \n",
      "2  you want  -> you want t\n",
      "3 you want t -> ou want to\n",
      "4 ou want to -> u want to \n",
      "5 u want to  ->  want to b\n",
      "6  want to b -> want to bu\n",
      "7 want to bu -> ant to bui\n",
      "8 ant to bui -> nt to buil\n",
      "9 nt to buil -> t to build\n",
      "10 t to build ->  to build \n",
      "11  to build  -> to build a\n",
      "12 to build a -> o build a \n",
      "13 o build a  ->  build a s\n",
      "14  build a s -> build a sh\n",
      "15 build a sh -> uild a shi\n",
      "16 uild a shi -> ild a ship\n",
      "17 ild a ship -> ld a ship,\n",
      "18 ld a ship, -> d a ship, \n",
      "19 d a ship,  ->  a ship, d\n",
      "20  a ship, d -> a ship, do\n",
      "21 a ship, do ->  ship, don\n",
      "22  ship, don -> ship, don'\n",
      "23 ship, don' -> hip, don't\n",
      "24 hip, don't -> ip, don't \n",
      "25 ip, don't  -> p, don't d\n",
      "26 p, don't d -> , don't dr\n",
      "27 , don't dr ->  don't dru\n",
      "28  don't dru -> don't drum\n",
      "29 don't drum -> on't drum \n",
      "30 on't drum  -> n't drum u\n",
      "31 n't drum u -> 't drum up\n",
      "32 't drum up -> t drum up \n",
      "33 t drum up  ->  drum up p\n",
      "34  drum up p -> drum up pe\n",
      "35 drum up pe -> rum up peo\n",
      "36 rum up peo -> um up peop\n",
      "37 um up peop -> m up peopl\n",
      "38 m up peopl ->  up people\n",
      "39  up people -> up people \n",
      "40 up people  -> p people t\n",
      "41 p people t ->  people to\n",
      "42  people to -> people tog\n",
      "43 people tog -> eople toge\n",
      "44 eople toge -> ople toget\n",
      "45 ople toget -> ple togeth\n",
      "46 ple togeth -> le togethe\n",
      "47 le togethe -> e together\n",
      "48 e together ->  together \n",
      "49  together  -> together t\n",
      "50 together t -> ogether to\n",
      "51 ogether to -> gether to \n",
      "52 gether to  -> ether to c\n",
      "53 ether to c -> ther to co\n",
      "54 ther to co -> her to col\n",
      "55 her to col -> er to coll\n",
      "56 er to coll -> r to colle\n",
      "57 r to colle ->  to collec\n",
      "58  to collec -> to collect\n",
      "59 to collect -> o collect \n",
      "60 o collect  ->  collect w\n",
      "61  collect w -> collect wo\n",
      "62 collect wo -> ollect woo\n",
      "63 ollect woo -> llect wood\n",
      "64 llect wood -> lect wood \n",
      "65 lect wood  -> ect wood a\n",
      "66 ect wood a -> ct wood an\n",
      "67 ct wood an -> t wood and\n",
      "68 t wood and ->  wood and \n",
      "69  wood and  -> wood and d\n",
      "70 wood and d -> ood and do\n",
      "71 ood and do -> od and don\n",
      "72 od and don -> d and don'\n",
      "73 d and don' ->  and don't\n",
      "74  and don't -> and don't \n",
      "75 and don't  -> nd don't a\n",
      "76 nd don't a -> d don't as\n",
      "77 d don't as ->  don't ass\n",
      "78  don't ass -> don't assi\n",
      "79 don't assi -> on't assig\n",
      "80 on't assig -> n't assign\n",
      "81 n't assign -> 't assign \n",
      "82 't assign  -> t assign t\n",
      "83 t assign t ->  assign th\n",
      "84  assign th -> assign the\n",
      "85 assign the -> ssign them\n",
      "86 ssign them -> sign them \n",
      "87 sign them  -> ign them t\n",
      "88 ign them t -> gn them ta\n",
      "89 gn them ta -> n them tas\n",
      "90 n them tas ->  them task\n",
      "91  them task -> them tasks\n",
      "92 them tasks -> hem tasks \n",
      "93 hem tasks  -> em tasks a\n",
      "94 em tasks a -> m tasks an\n",
      "95 m tasks an ->  tasks and\n",
      "96  tasks and -> tasks and \n",
      "97 tasks and  -> asks and w\n",
      "98 asks and w -> sks and wo\n",
      "99 sks and wo -> ks and wor\n",
      "100 ks and wor -> s and work\n",
      "101 s and work ->  and work,\n",
      "102  and work, -> and work, \n",
      "103 and work,  -> nd work, b\n",
      "104 nd work, b -> d work, bu\n",
      "105 d work, bu ->  work, but\n",
      "106  work, but -> work, but \n",
      "107 work, but  -> ork, but r\n",
      "108 ork, but r -> rk, but ra\n",
      "109 rk, but ra -> k, but rat\n",
      "110 k, but rat -> , but rath\n",
      "111 , but rath ->  but rathe\n",
      "112  but rathe -> but rather\n",
      "113 but rather -> ut rather \n",
      "114 ut rather  -> t rather t\n",
      "115 t rather t ->  rather te\n",
      "116  rather te -> rather tea\n",
      "117 rather tea -> ather teac\n",
      "118 ather teac -> ther teach\n",
      "119 ther teach -> her teach \n",
      "120 her teach  -> er teach t\n",
      "121 er teach t -> r teach th\n",
      "122 r teach th ->  teach the\n",
      "123  teach the -> teach them\n",
      "124 teach them -> each them \n",
      "125 each them  -> ach them t\n",
      "126 ach them t -> ch them to\n",
      "127 ch them to -> h them to \n",
      "128 h them to  ->  them to l\n",
      "129  them to l -> them to lo\n",
      "130 them to lo -> hem to lon\n",
      "131 hem to lon -> em to long\n",
      "132 em to long -> m to long \n",
      "133 m to long  ->  to long f\n",
      "134  to long f -> to long fo\n",
      "135 to long fo -> o long for\n",
      "136 o long for ->  long for \n",
      "137  long for  -> long for t\n",
      "138 long for t -> ong for th\n",
      "139 ong for th -> ng for the\n",
      "140 ng for the -> g for the \n",
      "141 g for the  ->  for the e\n",
      "142  for the e -> for the en\n",
      "143 for the en -> or the end\n",
      "144 or the end -> r the endl\n",
      "145 r the endl ->  the endle\n",
      "146  the endle -> the endles\n",
      "147 the endles -> he endless\n",
      "148 he endless -> e endless \n",
      "149 e endless  ->  endless i\n",
      "150  endless i -> endless im\n",
      "151 endless im -> ndless imm\n",
      "152 ndless imm -> dless imme\n",
      "153 dless imme -> less immen\n",
      "154 less immen -> ess immens\n",
      "155 ess immens -> ss immensi\n",
      "156 ss immensi -> s immensit\n",
      "157 s immensit ->  immensity\n",
      "158  immensity -> immensity \n",
      "159 immensity  -> mmensity o\n",
      "160 mmensity o -> mensity of\n",
      "161 mensity of -> ensity of \n",
      "162 ensity of  -> nsity of t\n",
      "163 nsity of t -> sity of th\n",
      "164 sity of th -> ity of the\n",
      "165 ity of the -> ty of the \n",
      "166 ty of the  -> y of the s\n",
      "167 y of the s ->  of the se\n",
      "168  of the se -> of the sea\n",
      "169 of the sea -> f the sea.\n",
      "[4, 9, 8, 13, 18, 21, 8, 22, 11, 19]\n",
      "[9, 8, 13, 18, 21, 8, 22, 11, 19, 5]\n"
     ]
    }
   ],
   "source": [
    "sequence_length = 10  # 임의 숫자 지정\n",
    "\n",
    "x_data = []\n",
    "y_data = []\n",
    "\n",
    "for i in range(0, len(sentence) - sequence_length):\n",
    "    x_str = sentence[i:i + sequence_length]\n",
    "    y_str = sentence[i + 1: i + sequence_length + 1]\n",
    "    print(i, x_str, '->', y_str)\n",
    "\n",
    "    x_data.append([char_dic[c] for c in x_str])  # x str to index\n",
    "    y_data.append([char_dic[c] for c in y_str])  # y str to index\n",
    "\n",
    "print(x_data[0])\n",
    "print(y_data[0])"
   ]
  },
  {
   "cell_type": "markdown",
   "metadata": {},
   "source": [
    "원핫 인코딩을 수행"
   ]
  },
  {
   "cell_type": "code",
   "execution_count": 7,
   "metadata": {},
   "outputs": [],
   "source": [
    "x_one_hot = [np.eye(dic_size)[x] for x in x_data] # x 데이터는 원-핫 인코딩\n"
   ]
  },
  {
   "cell_type": "markdown",
   "metadata": {},
   "source": [
    "데이터를 텐서로 변환"
   ]
  },
  {
   "cell_type": "code",
   "execution_count": 8,
   "metadata": {},
   "outputs": [
    {
     "name": "stdout",
     "output_type": "stream",
     "text": [
      "훈련 데이터의 크기 : torch.Size([170, 10, 25])\n",
      "레이블의 크기 : torch.Size([170, 10])\n",
      "tensor([[0., 0., 0., 0., 1., 0., 0., 0., 0., 0., 0., 0., 0., 0., 0., 0., 0., 0.,\n",
      "         0., 0., 0., 0., 0., 0., 0.],\n",
      "        [0., 0., 0., 0., 0., 0., 0., 0., 0., 1., 0., 0., 0., 0., 0., 0., 0., 0.,\n",
      "         0., 0., 0., 0., 0., 0., 0.],\n",
      "        [0., 0., 0., 0., 0., 0., 0., 0., 1., 0., 0., 0., 0., 0., 0., 0., 0., 0.,\n",
      "         0., 0., 0., 0., 0., 0., 0.],\n",
      "        [0., 0., 0., 0., 0., 0., 0., 0., 0., 0., 0., 0., 0., 1., 0., 0., 0., 0.,\n",
      "         0., 0., 0., 0., 0., 0., 0.],\n",
      "        [0., 0., 0., 0., 0., 0., 0., 0., 0., 0., 0., 0., 0., 0., 0., 0., 0., 0.,\n",
      "         1., 0., 0., 0., 0., 0., 0.],\n",
      "        [0., 0., 0., 0., 0., 0., 0., 0., 0., 0., 0., 0., 0., 0., 0., 0., 0., 0.,\n",
      "         0., 0., 0., 1., 0., 0., 0.],\n",
      "        [0., 0., 0., 0., 0., 0., 0., 0., 1., 0., 0., 0., 0., 0., 0., 0., 0., 0.,\n",
      "         0., 0., 0., 0., 0., 0., 0.],\n",
      "        [0., 0., 0., 0., 0., 0., 0., 0., 0., 0., 0., 0., 0., 0., 0., 0., 0., 0.,\n",
      "         0., 0., 0., 0., 1., 0., 0.],\n",
      "        [0., 0., 0., 0., 0., 0., 0., 0., 0., 0., 0., 1., 0., 0., 0., 0., 0., 0.,\n",
      "         0., 0., 0., 0., 0., 0., 0.],\n",
      "        [0., 0., 0., 0., 0., 0., 0., 0., 0., 0., 0., 0., 0., 0., 0., 0., 0., 0.,\n",
      "         0., 1., 0., 0., 0., 0., 0.]])\n",
      "tensor([ 9,  8, 13, 18, 21,  8, 22, 11, 19,  5])\n"
     ]
    }
   ],
   "source": [
    "X = torch.FloatTensor(x_one_hot)\n",
    "Y = torch.LongTensor(y_data)\n",
    "\n",
    "print('훈련 데이터의 크기 : {}'.format(X.shape))\n",
    "print('레이블의 크기 : {}'.format(Y.shape))\n",
    "print(X[0])\n",
    "print(Y[0])\n"
   ]
  },
  {
   "cell_type": "markdown",
   "metadata": {},
   "source": [
    "### 하이퍼 파라미터"
   ]
  },
  {
   "cell_type": "code",
   "execution_count": 15,
   "metadata": {},
   "outputs": [],
   "source": [
    "hidden_size = dic_size\n",
    "sequence_length = 10  # 임의 숫자 지정\n",
    "learning_rate = 0.1"
   ]
  },
  {
   "cell_type": "markdown",
   "metadata": {},
   "source": [
    "### 모델 구현"
   ]
  },
  {
   "cell_type": "code",
   "execution_count": 16,
   "metadata": {},
   "outputs": [],
   "source": [
    "class Net(torch.nn.Module):\n",
    "    def __init__(self, input_dim, hidden_dim, layers): # 현재 hidden_size는 dic_size와 같음.\n",
    "        super(Net, self).__init__()\n",
    "        self.rnn = torch.nn.RNN(input_dim, hidden_dim, num_layers=layers, batch_first=True)\n",
    "        self.fc = torch.nn.Linear(hidden_dim, hidden_dim, bias=True)\n",
    "\n",
    "    def forward(self, x):\n",
    "        x, _status = self.rnn(x)\n",
    "        x = self.fc(x)\n",
    "        return x\n",
    "    \n",
    "net = Net(dic_size, hidden_size, 2) # 이번에는 층을 두 개 쌓습니다.\n"
   ]
  },
  {
   "cell_type": "code",
   "execution_count": 17,
   "metadata": {},
   "outputs": [],
   "source": [
    "criterion = torch.nn.CrossEntropyLoss()\n",
    "optimizer = optim.Adam(net.parameters(), learning_rate)"
   ]
  },
  {
   "cell_type": "code",
   "execution_count": 18,
   "metadata": {},
   "outputs": [
    {
     "name": "stdout",
     "output_type": "stream",
     "text": [
      "torch.Size([170, 10, 25])\n"
     ]
    }
   ],
   "source": [
    "outputs = net(X)\n",
    "print(outputs.shape) # 3차원 텐서"
   ]
  },
  {
   "cell_type": "code",
   "execution_count": 19,
   "metadata": {},
   "outputs": [
    {
     "name": "stdout",
     "output_type": "stream",
     "text": [
      "torch.Size([170, 10])\n",
      "torch.Size([1700])\n"
     ]
    }
   ],
   "source": [
    "print(Y.shape)\n",
    "print(Y.view(-1).shape)"
   ]
  },
  {
   "cell_type": "code",
   "execution_count": 20,
   "metadata": {},
   "outputs": [
    {
     "name": "stdout",
     "output_type": "stream",
     "text": [
      "ttttttttttttttttttttttttttttttttttttttttttttttttttttttttttttttttttttttttttttttttttttttttttttttttttttttttttttttttttttttttttttttttttttttttttttttttttttttttttttttttttttttttttttttttttt\n",
      "                                                                                                                                                                                   \n",
      "l.dsi..ttggggggggggggggggg...ggggggggggggggggggggggggggg..gggg.gg.ggg.gg....gggggg.ggg.gggggggggggggggg.gggggggggg.ggggggggggggggg.ggg.gggggg.gggggggggggggggg.ggg...gggggggggggggg\n",
      "tocttacttaaaaaaaaaaaaaaaaaaaaaaaaaaaaaaaaaaaaaaaaaaaaaaaaaaaaaaaaaaaaaaaaaaaaaaaaaaaaaaaaaaaaaaaaaaaaaaaaaaaaaaaaaaaaaaaaaaaaaaaaaaaaaaaaaaaaaaaaaaaaaaaaaaaaaaaaaaaaaaaaaaaaaaaaaa\n",
      " tkt okt owkokwkwkpkkppkkkaokkkkwkookkpokppkkkpkkoakokkookkpookookkkppkakpokkwkpaowkkpkkookopkkkkookkookkkokkapkkpkkowkookkwakkkookkkpkkakkookkkokkpwowkookkppkkkkapkkkkkaokkkkwpko\n",
      " det tee ttetetetettetteeettteeetatttettetteeettetteteetteetttetteeettetetteatetttteeteettetteeeetteetteeeteeeteeteettetteetteeetteeeteettetteeettetattetteetteeeetteeaettteeetttet\n",
      "  ee  tel  t t t tt t  et   ttttt    t  t  att tt  t tt  tt   t  ttt  t t  t  t   tet te  t  ettt  tt  ttt tttttt te tt  tt  ttt  ttt te  t  ttt tt t  t  tt  ttttt tttt t  et   t \n",
      "e tol tol  t t tttttt   tt  ttttt    tttt  ttt tt  t tt  tttt t  ttt tt t  t  ttttt ttt ttt  tttt  tt  ttt tttttttt  ttt tt  ttt  ttt t   t  ttt tt tt t ttt  ttttt tt t ttttt t tt\n",
      "e  oe  ot                                                                                                                                                                          \n",
      "e   d   d                                                                                                                                                                          \n",
      "     e   e  e e   eet    eeet t   eee  e ee  te  ee ee eeeteee eee tee eteee e  e    e   e e    teee eeet e     te  eetee  ee ttee   e  ee eeet ee eeee  e  eee ee e    e  e  ee  e\n",
      "      t                 t      tt           t   t                                              tt          tt t    e      t    t       t                      e   t  t       t     \n",
      "                     t   t      t                         t          k         sttt          t   h         t    s t     t  t          s       k    ts  n           t t          n  \n",
      "    e    t t  tot     t     t tete  ote    e tott  tt     te  t t  te t  otte   tt e  eee        e    e  ott otet ee  te    e  e   t  tet   t   t t     t te et e ott     omt    e \n",
      "    e .                 e       t     e                               t                 e       t           t   t   t                                    tt       t tee           t\n",
      "    te   t    tttt  tt  t   t t t     tt  ttttt     t   t   t   tt    t ttt      tt   t tt tt  tt       t t  tt     ttt  t t     t  t   t    tttt              t t       ttt t  t  \n",
      " tt t    ttt  ttt   tt  t   ttt t tt  tt  tttttt    t t t   t t tt    t  tt  ttt t    t    tt  ttttt    ttt   t    tt tt t t     tt ttttt tt t tt t     t t      tttt t  tttt   tt \n",
      " tthn    th   ttt tttt htt  ttt ttttthttt tttthh   th tet thtttthh   th thtt ttttt t tth   tht tth t    ttt ttt    ht th t te t tth ththttttth tttt tt  t t t  t  ttt h  ttth t h  \n",
      " tth    tth ttt    t h ht  tthtes t thto t t  h  tttt t tteh   tee t  ttttt   t t s t th  t hh  th       ht t t  t ett het thh t tt  teh   t et t t t te  s s  t tthht .t htht tht \n",
      " tt  t  tth tttttttt t h   ttttes ttttett tt t t tet  tedtttt  teettetntte  t ttt   att t t ho tths  . t hte  t  tthtttoet th nh tte tth  otthtet     tt    d    tttht tt hthtote  \n",
      " tte t t o  ttettetnttt    ttt    ttte ttt tt    ttt te ntttrteteet tt tee  t t t t dtte .tthe etetss tntto tte  tte ttett terttette tte ttte  h  d tttt    sh  ttto   tn etttttt  \n",
      "rtt  t  t e ttt   tttoth  ttt   t t t  t e  t      t  hedt  ttt t dtot t t    t t     t   ttte te  ihhttttt tte ttthttte o ee ttet e teh t etetoe  ht t   t th  tt  t hant   tote  \n",
      "mtt  t   t d t h  ett  h  tt  t t t t  t     t   t d dh  t  t   t dt t t    d t t   d t   tto  t  e t  tt t t t ttt t t eo   e t t    t     t   t t  ot   t thd  t  h  ett t   t  e\n",
      "m t  t   t d    t t   dhe  t  t t d  t   t   dt    d     tt   t   dt d    t d t d t d t t tt    t   thr t t d t t t d t e  t   t t    t t t   d   t  ot d t dhd  t  tt  tt t   t d \n",
      "m t  t   t d    t   t d e   t t t d tt t   t  t  t d      t   t   dt d    t d t s t d t t  t   tt   iitrt t d t dtt dh  e  t   t      t   t d d   t e t d t s d   t ti     t e t d \n",
      "m t  tt  t d n tt e t dh m  t ttt d tt t  t   t  t r  h rtt t t t rt d    t t s s t d t i  t etsn   iid   t d t rtt thnhetst   t r    n   e t d   t e t   t shi     tim    t e s   \n",
      "m t ntte t rhn ti   t thin  t stt t tt tteth rte t   th retht t e rt r tr t t s stt t tii  t et th eii    t r t r t thnh thth  thth ret t t t d t the t d t sii     tim t  t e sh r\n",
      "  to tte  ore  tt d t t em  t   thd  t tt te seo t r  eo ete  ore  e r    t t t s t r thi  toethte ei irt dor t t t t teothte st te rete  ore r   t e e   e shir     i  t  t o so  \n",
      "p thitrtttip tdti e ttilin  t ttt r tt rtir ndt rwoirthir tiiwt d  w d tuutnt w tti rntip ttherdtendiia tttontt rdt r te rdth dt t treteiwtii r tdt e tttltnsip   ttti  tt the ttir\n",
      "p tonttdnt rhnduipd tnd epa t dtt t tt tt te nte t r teotht nttnetre rhtd t d s stt tsuii  toetht ttiiart don t rkt toneo ht  ttereoret ttont d nnt e d d e stir  ntti  tn toe d ir\n",
      "p tond   totonetd t d d ep  t not b  t t  to neend re  e et  tore me bon  t d t d t t doi te e et tet t s tonot d t ton e et  te reorht ttore bon t e s d e shire n od d   t e s an\n",
      "p thntt  thtontst t t t ep  t s t toat t  te nee t re  e et  tere re tona t d t s t t dhi tthe ht tht t t tonht thi tot emet  teere rht ttere ton the s d e thir  n st tt et e shan\n",
      "p thntte d te tsipt t ahept t stt t tt tsete nee s det e ht ttone re tena t d s stt tnhts  thepst ths t t tenht tkt tothemht tt etheret tthnt ton thepd d e ssip onahi ttn themdhsn\n",
      "p thnttetdhthndti t t ahintot sst t tt ttete nhe d dhteerst tdo t nt totn tsd t sst tshts ttheptt tks tmt tenks tst t theptt tttethtret tdh s t t t e t s t thp  ttahs ttn the tssn\n",
      "p tontt nd dentus t tndhin  t sst t tt tt te n ens d t erht mdone rt t ns tnd t dut ts si nthemht tksytmt dor t rkt t teemht tt eth ret  so s t n thert d t d in tnchs  tn therd sr\n",
      "p tontt nt te dusn  tnd en  dor t t t  tt te c ers re  eret ntore re dons tnd dor t ts ig tt emet t i trt dor t tkt r t eret ttoete rht  so t don thert d e d in tndhi  tn teert  s\n",
      "p tontto t te dut dotnd ep  donut dott to te r e t re  eret  toreore do c tnd donut dskii rtoemet t i drt don t r t roteeret tcoeteeret  dort don toert doe d in endhi  tn teerto s\n",
      "p tonttont de dui  ot dhep odon t dout tohthoc e t rh heret  toreore dons tnd don't tnkii dtoemet nkt dnu dor t d t r theret  seeroemet  to t don toemu doe d in  odhi  tn themuogc\n",
      "p tonutent dh dui  otndhip ot dit dott tt th   e t rhnherht  to he e dons dnt d s't dskiin therhthn t dnu donkt dst rktherht  sherhe hth to u don theru d e d in eodhi  tn themuhic\n",
      "p tonuthns dh dui  otndhip  t sit dsti dt tonn e t g nherhth donee t dons dnt d d't dshiin themhthtki drt don t dst dstherhth shethe hth dh s don thertnd e d im etshi  sn themshig\n",
      "p tonutans th dui aotndhip  dontt dott dt thnl e shg ther th donee t tons tns d dst dskiin them thtki grt do st bst rstherkth shethem th de t don themtns e s im etshi  sn themshi \n",
      "p to dtant th dui eotndkipd don't doti dt to   e t g   er th do ee t do n tns don't tskiinether th  i dnt do  t rst r ther th no toemeth de s don themtnd e d i  ets i  sn themthic\n",
      "p tondtend do dui t tnthipd don't dout dp to c e t g ther to do eart do p tnd don t dnkigndther to  i dns do  t rst rot er to noetoereto do d don themt d e dst  etdhi  tn themthic\n",
      "p tondtont th duiltotnthipd don't rout tp toon erton ther to don ert dorn tnd don't rskiinrther tonki dns dork, bst rother toonoetoer to dond don thertnd e d t  etthi  tn therthin\n",
      "p tondtons th duiltotnthipd don't tout dp toon e s ghther th don ert tonn dnd don't tskiin ther th ks ans dork, bss r ther th chether th dons don thertnd e d t  etdhi  on thert'gc\n",
      "p tondtont to dutld dndhipd don't tott dp toop e t gethem to doneert torp tnd don't tnkign them totks ans dork, wut rathem toocoethem to dond don themtndoe s ip etdhi  an themthtc\n",
      "p aondtont to dui e dndhipd don't tott do tooc'e t c them to co  act worp and d n't tnkign ahemeto ks ans dor , wut rktherkto co them to do d don toe tnd t s im etdhiy an toe t'ac\n",
      "p aondtens do dui e andhipd don't tost do toocle s glther to co  act wo c and don't tskign ahe eto ks ans dor , wut rkther to ch rhe  to do d bon the tnd tss im etshiy an the thac\n",
      "f aondtent do duildoandhip, bon't tost do toocle soglther te dol act wooc ans aon't tskign ahe ete ks ans aork, but rkther teoch rhem te dond bon'the tnd ess ip etshiy an tee thac\n",
      "f aonttant do duild andhip, bon't dosm dp poocle together te do  ect booc and bon't dskign the etenks ans dork, but r ther teoch dhe  te dons bon'the tnd ess ip enshiy an the thac\n",
      "f aolttent to duildoandhip, won't dosm dp poople together te doleect wooc and don't dskign the etenks ans dor , but r ther teoch the  te do d bon the tndoess ip endhiy tf the thac\n",
      "m aoldtent to duildoandhip, don't aosm dp poople together te doleect wooc ans don't askign themetenks ans doo , dui r ther teoch phem te do d don the tndoess ip etsiiy tf the thac\n",
      "m aondwtnt to cuildoanship, don't dotm dp poople together to dollect wooc ans don't dnkign them tenks ans dor , dui r ther tooch them te do s don themtnd ess ipm nsiiy of the thau\n",
      "m aon'want to dui d andhip, don't aotm tp poople togethem te tol ect wooc ans aon't askign ohem tenks ans doo , dui rather teoch phem te tors don toe tndoe s immenshiy of the thac\n",
      "m aondwans ao dutld anship, don't dotm dp poople t gether to co lect wood ans don't ds ign oher to ks ans dork, dut rather to sh cher to cons don thertnd ess immensiiy of thertia'\n",
      "l aondwans to dutld anship, don't aotm dp poople t gether to collect wood ans don't as ign ohe  to ks ans dor , dut rather to ci ther to co g don the tnd ess immensiiy of thertiar\n",
      "l aoldwant to cutld anship, don't aotm dp poople aoglther te coleect wood ans don't as ign aoe  tesks anu aork, dut r ther teach them te cong bon the tnd ess immensiiy of the thad\n",
      "l aordwant to cutl, anship, won't antm up peaple t gether te collect wood and don't as ign ohe  te ks ans dor , but rather te ch them te cond bon the tnd ess immendity of the tia'\n",
      "l aor went th cutl, anship, won't dntm dp people t gether te collect wond and don't ds ign the  tenks ans dork, but rather teach ther te cord bon the tnd e s immensity of the tha'\n",
      "l aorlwens to cutl, anship, don't drum tp people t gether te collect wood and don't dnkign them tenks anu dork, dut rather teoch them te cord don the tndle s immenshty of the thar\n",
      "l aor wans to cuil, anship, don't roum up people t gether to collect wood and don't rshign ahem tesks ans dork, dut rather toach ther te cond fon the tnd ess immensity of the thar\n",
      "l aor wans to cuil, anship, don't aoum up people aogether te collect wood ans don't assign ahem tesks ans dork, dut rather teach ther te cond fon the tndless immensity of the tiar\n",
      "l ao  wans to cuild andhip, don't artm up people aogether te collect doodland don't assign them tesks and dork, dui rathem teach them te cond fon the tndle s immensity of the tiar\n",
      "l eon want to cuild anship, don't drum up people together te collect dood and don't ds ign them tesks and dork, dut rathem teach them te cong don the tndless immensity of the tiar\n",
      "l eon want to cuild anship, don't arum up people together te collect wood and don't as ign them tesks and dork, dut rather teach them te cong don the tndless immensity of the tiar\n",
      "l aon want to cuild anship, don't arum up people together te collect wood and don't as ign them tesks and dork, but rather teach them te cong bon the tndless immensity of the tiar\n",
      "l aon want to build anship, don't arum up people together te collect wood and don't dssign the  tesks and dork, fut rather teach ther te cong fon the tndless immensity of the thar\n",
      "l aon want to cuild anship, don't drum up people t gether te collect wood and don't dssign ther tesks and dork, fut rather teach ther te cong fon the tndless immensity of the tiar\n",
      "l aon want to cuild anship, don't arum up people t gether te collect wood and don't assign them tesks and dork, fut rather teach them te cong fon the tndless immensity of the thar\n",
      "l eon want to build anship, don't arum up people t gether te collect wood and don't assign them tesks and dork, fut rather teach them te cong fon the tndless immensity of the tia'\n",
      "l eon want to build anship, don't arum up people together to collect wood and don't as ign them tesks and dork, fut rather toach them te cong fon the tndless immensity of the tia'\n",
      "l eor went to build anship, don't drum up people together to collect wood and don't dssign them tesks and dork, fut rather toach them te cong for the tndless immensity of the tia'\n",
      "l aor want to build anship, don't drum up people t gether to collect wood and don't dssign them tesks and dork, fut rather toach them te cong for the tndless immensity of the tia'\n",
      "l eor want to build anship, don't arum up people together te collect wood and don't assign them tesks and dork, fut rather teach them te cong for the tndless immensity of the tia'\n",
      "p aor went to build anship, don't arum up people t gether te collect wood and don't assign them tesks and dork, fut rather teach them te cong for the tndless immensity of the tia'\n",
      "p eor want to build anship, don't arum up people together te collect wood and don't assign them tesks and dork, fut rather teach them te cong for the sndless immensity of the sia'\n",
      "p eor want to build anship, don't drum up people together te collect wood and don't dssign them tesks and dork, fut rather teach them te cong for the tndless immensity of the tia'\n",
      "p eor want to build anship, don't drum up people together to collect wood and don't dssign them tesks and dork, fut rather toach them te cong for the tndless immensity of the tia'\n",
      "p eor want to build anship, don't drum up people together to collect wood and don't dssign them tosks and dork, fut rather toach them to cong for the endless immensity of the eha'\n",
      "p eor want to build anship, don't drum up people together to collect wood and don't dssign them tosks and dork, fut rather toach them to cong for the tndless immensity of the tha'\n",
      "l eou want to build anship, don't arum up people together to collect wood and don't assign ther tosks and dork, fut rather toach them to cong for the sndless immensity of the sha'\n",
      "l eor want to build anship, don't drum up people together to collect wood and don't dssign them tosks and dook, fut rather toach them to cong for the tndless immensity of the sha'\n",
      "l eou want to build anship, don't drum up people together to lollect wood and don't dssign them tosks and dork, but rathem toach them to cong bor the sndless immensity of the shar\n",
      "l eol want to build anship, don't arum up people together to collect wood and don't assign them tosks and dork, fut rather toach them to cong for the endless immensity of the thar\n",
      "l eor want to build anship, don't arum up people together te collect wood and don't assign them tesks and dork, fut rather teach them te cong for the endless immensity of the shar\n",
      "l eou want to build anship, don't arum up people together te collect wood and don't dssign them tesks and dork, fut rather teach them te cong for the endless immensity of the shar\n",
      "p eor want to build anship, don't arum up people together to collect wood and don't assign them tesks and dork, fut rather toach them te cong for the endless immensity of the shar\n",
      "p eor want to build anship, don't drum up people together to lollect wood and don't dssign them tosks and dork, fut rather teach them te cong for the endless immensity of the ssan\n",
      "p eor want to build anship, don't arum up people together to collect wood and don't assign them tosks and work, fut rather toach them to cong for the endless immensity of the ehan\n",
      "p eor want to build anship, don't arum up people together to collect wood and don't assign them tosks and dork, fut rather toach them to cong bor the endless immensity of the shan\n",
      "p eor want to build anship, don't drum up people together te collect wood and don't dssign them tesks and dork, fut rather teach them te cong for the endless immensity of the shan\n",
      "l eor want to build anship, don't drum up people together te collect wood and don't dssign them tesks and dork, fut rather teach them te cong for the endless immensity of the shan\n",
      "l eor want to build anship, don't drum up people together to collect wood and don't dssign them tesks and dork, fut rather toach them te cong for the endless immensity of the shan\n",
      "p eor want to build anship, don't arum up people together to collect wood and don't assign them tosks and dork, fut rather toach them to cong for the endless immensity of the sha.\n",
      "p eou want to build anship, don't arum up people together to collect wood and don't assign them tosks and work, but rather toach them to cong bor the endless immensity of the shai\n",
      "p eor want to build anship, don't drum up people together to collect wood and don't dssign them tosks and work, but rather toach them to cong bor the endless immensity of the ssan\n",
      "p eor want to build anship, don't drum up people together to collect wood and don't dssign them tosks and work, but rather toach them to cong bor the endless immensity of the ssa.\n",
      "p eou want to build anship, don't arum up people together to collect wood and don't assign them tosks and work, fut rather toach them to cong for the endless immensity of the sea.\n",
      "p eou want to build anship, don't arum up people together to lollect wood and don't assign them tosks and work, fut rather toach them to long for the endless immensity of the sean\n",
      "p eou want to build anship, don't drum up people together to lollect wood and don't dssign them tosks and work, fut rather toach them to long for the endless immensity of the sean\n"
     ]
    }
   ],
   "source": [
    "for i in range(100):\n",
    "    optimizer.zero_grad()\n",
    "    outputs = net(X) # (170, 10, 25) 크기를 가진 텐서를 매 에포크마다 모델의 입력으로 사용\n",
    "    loss = criterion(outputs.view(-1, dic_size), Y.view(-1))\n",
    "    loss.backward()\n",
    "    optimizer.step()\n",
    "\n",
    "    # results의 텐서 크기는 (170, 10)\n",
    "    results = outputs.argmax(dim=2)\n",
    "    predict_str = \"\"\n",
    "    for j, result in enumerate(results):\n",
    "        if j == 0: # 처음에는 예측 결과를 전부 가져오지만\n",
    "            predict_str += ''.join([char_set[t] for t in result])\n",
    "        else: # 그 다음에는 마지막 글자만 반복 추가\n",
    "            predict_str += char_set[result[-1]]\n",
    "\n",
    "    print(predict_str)"
   ]
  }
 ],
 "metadata": {
  "kernelspec": {
   "display_name": "nlp",
   "language": "python",
   "name": "nlp"
  },
  "language_info": {
   "codemirror_mode": {
    "name": "ipython",
    "version": 3
   },
   "file_extension": ".py",
   "mimetype": "text/x-python",
   "name": "python",
   "nbconvert_exporter": "python",
   "pygments_lexer": "ipython3",
   "version": "3.8.5"
  }
 },
 "nbformat": 4,
 "nbformat_minor": 4
}

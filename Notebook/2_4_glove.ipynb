{
  "nbformat": 4,
  "nbformat_minor": 0,
  "metadata": {
    "colab": {
      "name": "Untitled4.ipynb",
      "provenance": [],
      "collapsed_sections": [],
      "toc_visible": true,
      "authorship_tag": "ABX9TyNc5SEdFZa3tF5nXMTyDXMf",
      "include_colab_link": true
    },
    "kernelspec": {
      "name": "python3",
      "display_name": "Python 3"
    }
  },
  "cells": [
    {
      "cell_type": "markdown",
      "metadata": {
        "id": "view-in-github",
        "colab_type": "text"
      },
      "source": [
        "<a href=\"https://colab.research.google.com/github/HunbeomBak/nlp_study/blob/main/Untitled4.ipynb\" target=\"_parent\"><img src=\"https://colab.research.google.com/assets/colab-badge.svg\" alt=\"Open In Colab\"/></a>"
      ]
    },
    {
      "cell_type": "markdown",
      "metadata": {
        "id": "rPw7s3F0kUZi"
      },
      "source": [
        "# 글로브(Global Vectors for Word Representation, GloVe)\r\n",
        "- 운트 기반과 예측 기반을 모두 사용하는 방법\r\n",
        "- 존의 카운트 기반의 LSA(Latent Semantic Analysis)와 예측 기반의 Word2Vec의 단점을 보완\r\n",
        "\r\n",
        "\r\n",
        "## 기존 방법론에 대한 비판\r\n",
        "- LSA\r\n",
        "    - 각 단어의 빈도수를 카운트 한 행렬이라는 전체적인 통계 정보를 입력으로 받아 차원을 축소(Truncated SVD)하여 잠재된 의미를 끌어내는 방법\r\n",
        "    - 카운트 기반으로 코퍼스의 전체적인 통계 정보를 고려\r\n",
        "    - 왕:남자 = 여왕:? (정답은 여자)와 같은 단어 의미의 유추 작업(Analogy task)에는 성능이 떨어짐\r\n",
        "    \r\n",
        "\r\n",
        "    \r\n",
        "\r\n",
        "- Word2Vec\r\n",
        "    - 실제값과 예측값에 대한 오차를 손실 함수를 통해 줄여나가며 학습하는 예측 기반의 방법\r\n",
        "    - 예측 기반으로 단어 간 유추 작업에는 LSA보다 뛰어남\r\n",
        "    - 임베딩 벡터가 윈도우 크기 내에서만 주변 단어를 고려 => 퍼스의 전체적인 통계 정보를 반영하지 못함\r\n",
        "    \r\n",
        "## 윈도우 기반 동시 등장 행렬(Window based Co-occurrence Matrix)\r\n",
        "- 단어의 동시 등장 행렬\r\n",
        "    -  행과 열을 전체 단어 집합의 단어들로 구성하고, i 단어의 윈도우 크기(Window Size) 내에서 k 단어가 등장한 횟수를 i행 k열에 기재한 행렬\r\n",
        "    \r\n",
        "    \r\n",
        "## 동시 등장 확률(Co-occurrence Probability)\r\n",
        "- 동시 등장 확률 P(k | i)는 동시 등장 행렬로부터 특정 단어 i의 전체 등장 횟수를 카운트하고, 특정 단어 i가 등장했을 때 어떤 단어 k가 등장한 횟수를 카운트하여 계산한 조건부 확률\r\n",
        "- P(k | i) 에서 i를 중심 단어(Center Word), k를 주변 단어(Context Word)라고 했을 때, 동시 등장 행렬에서 중심 단어 i의 행의 모든 값을 더한 값을 분모로 하고 i행 k열의 값을 분자로 한 값\r\n",
        "\r\n",
        "## 손실 함수(Loss function)\r\n",
        "- GloVe의 목표 : 임베딩 된 중심 단어와 주변 단어 벡터의 내적이 전체 코퍼스에서의 동시 등장 확률이 되도록 만드는 것\r\n",
        "\r\n",
        "## GloVe 훈련시키기\r\n",
        "### 설치"
      ]
    },
    {
      "cell_type": "code",
      "metadata": {
        "colab": {
          "base_uri": "https://localhost:8080/"
        },
        "id": "3Nshc1_WkTxH",
        "outputId": "0859aa83-b00c-48f0-c0aa-9f8393fbeeef"
      },
      "source": [
        "!pip install glove_python\r\n"
      ],
      "execution_count": 1,
      "outputs": [
        {
          "output_type": "stream",
          "text": [
            "Collecting glove_python\n",
            "\u001b[?25l  Downloading https://files.pythonhosted.org/packages/3e/79/7e7e548dd9dcb741935d031117f4bed133276c2a047aadad42f1552d1771/glove_python-0.1.0.tar.gz (263kB)\n",
            "\r\u001b[K     |█▎                              | 10kB 13.7MB/s eta 0:00:01\r\u001b[K     |██▌                             | 20kB 18.1MB/s eta 0:00:01\r\u001b[K     |███▊                            | 30kB 12.0MB/s eta 0:00:01\r\u001b[K     |█████                           | 40kB 9.4MB/s eta 0:00:01\r\u001b[K     |██████▎                         | 51kB 8.2MB/s eta 0:00:01\r\u001b[K     |███████▌                        | 61kB 8.9MB/s eta 0:00:01\r\u001b[K     |████████▊                       | 71kB 8.6MB/s eta 0:00:01\r\u001b[K     |██████████                      | 81kB 8.4MB/s eta 0:00:01\r\u001b[K     |███████████▏                    | 92kB 8.2MB/s eta 0:00:01\r\u001b[K     |████████████▌                   | 102kB 8.1MB/s eta 0:00:01\r\u001b[K     |█████████████▊                  | 112kB 8.1MB/s eta 0:00:01\r\u001b[K     |███████████████                 | 122kB 8.1MB/s eta 0:00:01\r\u001b[K     |████████████████▏               | 133kB 8.1MB/s eta 0:00:01\r\u001b[K     |█████████████████▍              | 143kB 8.1MB/s eta 0:00:01\r\u001b[K     |██████████████████▊             | 153kB 8.1MB/s eta 0:00:01\r\u001b[K     |████████████████████            | 163kB 8.1MB/s eta 0:00:01\r\u001b[K     |█████████████████████▏          | 174kB 8.1MB/s eta 0:00:01\r\u001b[K     |██████████████████████▍         | 184kB 8.1MB/s eta 0:00:01\r\u001b[K     |███████████████████████▋        | 194kB 8.1MB/s eta 0:00:01\r\u001b[K     |█████████████████████████       | 204kB 8.1MB/s eta 0:00:01\r\u001b[K     |██████████████████████████▏     | 215kB 8.1MB/s eta 0:00:01\r\u001b[K     |███████████████████████████▍    | 225kB 8.1MB/s eta 0:00:01\r\u001b[K     |████████████████████████████▋   | 235kB 8.1MB/s eta 0:00:01\r\u001b[K     |█████████████████████████████▉  | 245kB 8.1MB/s eta 0:00:01\r\u001b[K     |███████████████████████████████▏| 256kB 8.1MB/s eta 0:00:01\r\u001b[K     |████████████████████████████████| 266kB 8.1MB/s \n",
            "\u001b[?25hRequirement already satisfied: numpy in /usr/local/lib/python3.6/dist-packages (from glove_python) (1.19.5)\n",
            "Requirement already satisfied: scipy in /usr/local/lib/python3.6/dist-packages (from glove_python) (1.4.1)\n",
            "Building wheels for collected packages: glove-python\n",
            "  Building wheel for glove-python (setup.py) ... \u001b[?25l\u001b[?25hdone\n",
            "  Created wheel for glove-python: filename=glove_python-0.1.0-cp36-cp36m-linux_x86_64.whl size=700255 sha256=92b92ef3d916bc4780872c12ad39f6e9c0b9e52d10fff8b47dd1768adca9427b\n",
            "  Stored in directory: /root/.cache/pip/wheels/88/4b/6d/10c0d2ad32c9d9d68beec9694a6f0b6e83ab1662a90a089a4b\n",
            "Successfully built glove-python\n",
            "Installing collected packages: glove-python\n",
            "Successfully installed glove-python-0.1.0\n"
          ],
          "name": "stdout"
        }
      ]
    },
    {
      "cell_type": "markdown",
      "metadata": {
        "id": "5hurjGsBknoi"
      },
      "source": [
        "### 훈련 데이터 습득 및 전처리"
      ]
    },
    {
      "cell_type": "code",
      "metadata": {
        "colab": {
          "base_uri": "https://localhost:8080/"
        },
        "id": "Jt_HPWidkXlV",
        "outputId": "294d6f90-d293-46f2-d302-5610d92189b3"
      },
      "source": [
        "import nltk\r\n",
        "nltk.download('punkt')"
      ],
      "execution_count": 2,
      "outputs": [
        {
          "output_type": "stream",
          "text": [
            "[nltk_data] Downloading package punkt to /root/nltk_data...\n",
            "[nltk_data]   Unzipping tokenizers/punkt.zip.\n"
          ],
          "name": "stdout"
        },
        {
          "output_type": "execute_result",
          "data": {
            "text/plain": [
              "True"
            ]
          },
          "metadata": {
            "tags": []
          },
          "execution_count": 2
        }
      ]
    },
    {
      "cell_type": "code",
      "metadata": {
        "id": "PAJfrhLDksY4"
      },
      "source": [
        "import urllib.request\r\n",
        "import zipfile\r\n",
        "from lxml import etree\r\n",
        "import re\r\n",
        "from nltk.tokenize import word_tokenize, sent_tokenize"
      ],
      "execution_count": 3,
      "outputs": []
    },
    {
      "cell_type": "code",
      "metadata": {
        "colab": {
          "base_uri": "https://localhost:8080/"
        },
        "id": "tV-CBS5mkuSo",
        "outputId": "641a191d-f357-43fc-fc5a-f05470b1e148"
      },
      "source": [
        "urllib.request.urlretrieve(\"https://raw.githubusercontent.com/GaoleMeng/RNN-and-FFNN-textClassification/master/ted_en-20160408.xml\", filename=\"ted_en-20160408.xml\")"
      ],
      "execution_count": 4,
      "outputs": [
        {
          "output_type": "execute_result",
          "data": {
            "text/plain": [
              "('ted_en-20160408.xml', <http.client.HTTPMessage at 0x7fb51bb50e10>)"
            ]
          },
          "metadata": {
            "tags": []
          },
          "execution_count": 4
        }
      ]
    },
    {
      "cell_type": "code",
      "metadata": {
        "id": "yyOU2PXOkvqL"
      },
      "source": [
        "targetXML=open('ted_en-20160408.xml', 'r', encoding='UTF8')\r\n",
        "# 저자의 경우 윈도우 바탕화면에서 작업하여서 'C:\\Users\\USER\\Desktop\\ted_en-20160408.xml'이 해당 파일의 경로.  \r\n",
        "target_text = etree.parse(targetXML)\r\n",
        "parse_text = '\\n'.join(target_text.xpath('//content/text()'))\r\n",
        "# xml 파일로부터 <content>와 </content> 사이의 내용만 가져온다.\r\n",
        "\r\n",
        "content_text = re.sub(r'\\([^)]*\\)', '', parse_text)\r\n",
        "# 정규 표현식의 sub 모듈을 통해 content 중간에 등장하는 (Audio), (Laughter) 등의 배경음 부분을 제거.\r\n",
        "# 해당 코드는 괄호로 구성된 내용을 제거.\r\n",
        "\r\n",
        "sent_text = sent_tokenize(content_text)\r\n",
        "# 입력 코퍼스에 대해서 NLTK를 이용하여 문장 토큰화를 수행.\r\n",
        "\r\n",
        "normalized_text = []\r\n",
        "for string in sent_text:\r\n",
        "     tokens = re.sub(r\"[^a-z0-9]+\", \" \", string.lower())\r\n",
        "     normalized_text.append(tokens)\r\n",
        "# 각 문장에 대해서 구두점을 제거하고, 대문자를 소문자로 변환.\r\n",
        "\r\n",
        "result = []\r\n",
        "result = [word_tokenize(sentence) for sentence in normalized_text]\r\n",
        "# 각 문장에 대해서 NLTK를 이용하여 단어 토큰화를 수행."
      ],
      "execution_count": 5,
      "outputs": []
    },
    {
      "cell_type": "markdown",
      "metadata": {
        "id": "e-3rwMyjk0Xo"
      },
      "source": [
        "### 훈련"
      ]
    },
    {
      "cell_type": "code",
      "metadata": {
        "id": "sKO_WgQ7kyGd"
      },
      "source": [
        "from glove import Corpus, Glove\r\n"
      ],
      "execution_count": 6,
      "outputs": []
    },
    {
      "cell_type": "code",
      "metadata": {
        "id": "vUgHSmmAlA-n"
      },
      "source": [
        "corpus = Corpus() \r\n",
        "corpus.fit(result, window=5)\r\n",
        "# 훈련 데이터로부터 GloVe에서 사용할 동시 등장 행렬 생성"
      ],
      "execution_count": 7,
      "outputs": []
    },
    {
      "cell_type": "code",
      "metadata": {
        "colab": {
          "base_uri": "https://localhost:8080/"
        },
        "id": "iWz3jbxjlCTe",
        "outputId": "c7cafd12-0602-448f-8cc6-ae9ebf2d7763"
      },
      "source": [
        "glove = Glove(no_components=100, learning_rate=0.05)\r\n",
        "glove.fit(corpus.matrix, epochs=20, no_threads=4, verbose=True)\r\n",
        "glove.add_dictionary(corpus.dictionary)\r\n",
        "# 학습에 이용할 쓰레드의 개수는 4로 설정, 에포크는 20."
      ],
      "execution_count": 8,
      "outputs": [
        {
          "output_type": "stream",
          "text": [
            "Performing 20 training epochs with 4 threads\n",
            "Epoch 0\n",
            "Epoch 1\n",
            "Epoch 2\n",
            "Epoch 3\n",
            "Epoch 4\n",
            "Epoch 5\n",
            "Epoch 6\n",
            "Epoch 7\n",
            "Epoch 8\n",
            "Epoch 9\n",
            "Epoch 10\n",
            "Epoch 11\n",
            "Epoch 12\n",
            "Epoch 13\n",
            "Epoch 14\n",
            "Epoch 15\n",
            "Epoch 16\n",
            "Epoch 17\n",
            "Epoch 18\n",
            "Epoch 19\n"
          ],
          "name": "stdout"
        }
      ]
    },
    {
      "cell_type": "markdown",
      "metadata": {
        "id": "bNN0hdYolJit"
      },
      "source": [
        "### 유사한 단어 출력"
      ]
    },
    {
      "cell_type": "code",
      "metadata": {
        "colab": {
          "base_uri": "https://localhost:8080/"
        },
        "id": "7YjTIP0plF58",
        "outputId": "5150937b-b106-4168-f929-f61d1998c453"
      },
      "source": [
        "model_result1=glove.most_similar(\"man\")\r\n",
        "print(model_result1)"
      ],
      "execution_count": 9,
      "outputs": [
        {
          "output_type": "stream",
          "text": [
            "[('woman', 0.959524093448378), ('girl', 0.8898895700479628), ('guy', 0.8802885487582404), ('young', 0.8490654248003882)]\n"
          ],
          "name": "stdout"
        }
      ]
    },
    {
      "cell_type": "code",
      "metadata": {
        "colab": {
          "base_uri": "https://localhost:8080/"
        },
        "id": "Alu0vWeulbht",
        "outputId": "47df1fe7-64f3-4086-c072-35507869cf2c"
      },
      "source": [
        "model_result2=glove.most_similar(\"boy\")\r\n",
        "print(model_result2)"
      ],
      "execution_count": 10,
      "outputs": [
        {
          "output_type": "stream",
          "text": [
            "[('girl', 0.9447202693246827), ('woman', 0.8564067784601618), ('man', 0.842407340763357), ('kid', 0.8173278318033197)]\n"
          ],
          "name": "stdout"
        }
      ]
    },
    {
      "cell_type": "code",
      "metadata": {
        "colab": {
          "base_uri": "https://localhost:8080/"
        },
        "id": "UoN2GaNblcAK",
        "outputId": "9c88cf92-a1b8-48c6-d663-98dd696e134b"
      },
      "source": [
        "model_result3=glove.most_similar(\"university\")\r\n",
        "print(model_result3)"
      ],
      "execution_count": 11,
      "outputs": [
        {
          "output_type": "stream",
          "text": [
            "[('harvard', 0.8833352700654012), ('mit', 0.8431742722949984), ('cambridge', 0.8360920494806658), ('stanford', 0.8307473885663621)]\n"
          ],
          "name": "stdout"
        }
      ]
    },
    {
      "cell_type": "code",
      "metadata": {
        "colab": {
          "base_uri": "https://localhost:8080/"
        },
        "id": "2ooSe7kBlu8-",
        "outputId": "cc13b305-7430-4680-9818-4845c2676e8d"
      },
      "source": [
        "model_result4=glove.most_similar(\"water\")\r\n",
        "print(model_result4)"
      ],
      "execution_count": 12,
      "outputs": [
        {
          "output_type": "stream",
          "text": [
            "[('air', 0.8336621514907467), ('fresh', 0.8259929432206339), ('clean', 0.819764957258365), ('food', 0.8114595229131326)]\n"
          ],
          "name": "stdout"
        }
      ]
    },
    {
      "cell_type": "code",
      "metadata": {
        "colab": {
          "base_uri": "https://localhost:8080/"
        },
        "id": "AnXh1Y3JlyNh",
        "outputId": "806bd3ec-aaa9-46b4-a33a-9039ad9d7492"
      },
      "source": [
        "model_result5=glove.most_similar(\"physics\")\r\n",
        "print(model_result5)"
      ],
      "execution_count": 13,
      "outputs": [
        {
          "output_type": "stream",
          "text": [
            "[('chemistry', 0.8871240061550107), ('economics', 0.8735734929487828), ('mathematics', 0.8690844666663236), ('beauty', 0.8651302875997448)]\n"
          ],
          "name": "stdout"
        }
      ]
    },
    {
      "cell_type": "code",
      "metadata": {
        "colab": {
          "base_uri": "https://localhost:8080/"
        },
        "id": "yGyQ1RS4lzgk",
        "outputId": "895b1a71-accd-4271-d893-aba53bfe13da"
      },
      "source": [
        "model_result6=glove.most_similar(\"muscle\")\r\n",
        "print(model_result6)"
      ],
      "execution_count": 14,
      "outputs": [
        {
          "output_type": "stream",
          "text": [
            "[('tissue', 0.8485704129952255), ('nerve', 0.8248290602812862), ('channel', 0.7774857980322292), ('skeletal', 0.7742452331505026)]\n"
          ],
          "name": "stdout"
        }
      ]
    },
    {
      "cell_type": "code",
      "metadata": {
        "colab": {
          "base_uri": "https://localhost:8080/"
        },
        "id": "AODmRLafl1HH",
        "outputId": "f750e103-687a-4710-f7d2-7c2e4e0a4197"
      },
      "source": [
        "model_result7=glove.most_similar(\"clean\")\r\n",
        "print(model_result7)"
      ],
      "execution_count": 15,
      "outputs": [
        {
          "output_type": "stream",
          "text": [
            "[('fresh', 0.8264459707039261), ('water', 0.8197649572583651), ('wind', 0.8019940902233511), ('heat', 0.7832213354139386)]\n"
          ],
          "name": "stdout"
        }
      ]
    },
    {
      "cell_type": "markdown",
      "metadata": {
        "id": "CfeisutXmf-Q"
      },
      "source": [
        "## Save&load model\r\n",
        "### Save"
      ]
    },
    {
      "cell_type": "code",
      "metadata": {
        "id": "bSMHZajPl2Ti"
      },
      "source": [
        "import numpy as np"
      ],
      "execution_count": 16,
      "outputs": []
    },
    {
      "cell_type": "code",
      "metadata": {
        "id": "R90yTrAZmjMU"
      },
      "source": [
        "## 나중에 워드 임베딩 시각화용\r\n",
        "np.savetxt('glove-vector.tsv', glove.word_vectors, delimiter='\\t') \r\n",
        "with open('glove-metadata.tsv', 'w', encoding='utf-8') as f: \r\n",
        "  for key in glove.dictionary.keys(): f.write(f\"{key}\\n\")\r\n",
        "\r\n"
      ],
      "execution_count": 20,
      "outputs": []
    },
    {
      "cell_type": "code",
      "metadata": {
        "id": "qWpflUr1muM-"
      },
      "source": [
        "## 모델 저장\r\n",
        "glove.save('glove_study.model')"
      ],
      "execution_count": 21,
      "outputs": []
    },
    {
      "cell_type": "markdown",
      "metadata": {
        "id": "tHWtaHHqntbw"
      },
      "source": [
        "### load"
      ]
    },
    {
      "cell_type": "code",
      "metadata": {
        "id": "vKC-AIInnCD4"
      },
      "source": [
        "glove = Glove.load('glove_study.model')\r\n"
      ],
      "execution_count": 22,
      "outputs": []
    },
    {
      "cell_type": "code",
      "metadata": {
        "colab": {
          "base_uri": "https://localhost:8080/"
        },
        "id": "WUTJFeKUn44T",
        "outputId": "ad1a37f0-b9bc-4f49-c7ed-b7fb2bb95a4e"
      },
      "source": [
        "model_result1=glove.most_similar(\"man\")\r\n",
        "print(model_result1)"
      ],
      "execution_count": 23,
      "outputs": [
        {
          "output_type": "stream",
          "text": [
            "[('woman', 0.959524093448378), ('girl', 0.8898895700479628), ('guy', 0.8802885487582404), ('young', 0.8490654248003882)]\n"
          ],
          "name": "stdout"
        }
      ]
    },
    {
      "cell_type": "code",
      "metadata": {
        "id": "U6NHsQKUn6sY"
      },
      "source": [
        ""
      ],
      "execution_count": null,
      "outputs": []
    }
  ]
}